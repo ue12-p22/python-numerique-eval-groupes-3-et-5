{
 "cells": [
  {
   "cell_type": "markdown",
   "id": "ec1c2cc5",
   "metadata": {},
   "source": [
    "# Sujet d'évaluation Numpy\n",
    "\n",
    "Ce sujet est destiné aux élèves du groupe 3 de PE – groupe des \"moyens faibles\" – de la promotion 2022 et constitue l'évaluation finale du module.\n",
    "\n",
    "L'objectif est ici de contrôler votre maîtrise de l'outil `numpy`: vous devrez démonter votre capacité à créer des matrices numpy, à faire des opérations simples dessus, et à faire preuve d'imagination pour répondre à une série de puzzles.\n",
    "\n",
    "En particulier, un des objectifs-clés de ce sujet est de tester votre capacité à utiliser des outils connus dans un cadre complètement nouveau, et à réaliser qu'un tableau `numpy` est aussi un conteneurs de données dans lequel on peut stocker autre chose que des matrices.\n",
    "\n",
    "Pour vous aider, vous êtes invités à consulter:\n",
    "- la [documentation en ligne de `numpy`](https://numpy.org) (en anglais)\n",
    "- la [documentation en ligne de `matplotlib`](https://matplotlib.org/stable/users/index.html) (également en anglais)\n",
    "- votre ami le [moteur de recherche](https://duckduckgo.com)\n",
    "\n",
    "En cas de blocage lors de votre travail sur ce TD, pensez à contacter en priorité:\n",
    "- votre responsable de groupe, via son **email aux mines `<prenom.nom@ninesparis.psl.eu>`**\n",
    "- le rédacteur du sujet: [Aurélien Noce `<aurelien.noce@minesparis.psl.eu>`](mailto:aurelien.noce@minesparis.psl.eu?Subject=[UE12-PE]%20Au%20Secours)"
   ]
  },
  {
   "cell_type": "markdown",
   "id": "379a3344",
   "metadata": {},
   "source": [
    "**Barème**\n",
    "\n",
    "L'examen est noté sur 23,5: 20 points de base de 3,5 points bonus. Évidemment, pour avoir les points bonus il faut avoir préalablement répondu à la question associée (ou avoir un prototype qui fonctionne pour la partie 3).\n",
    "\n",
    "- **Partie 1** Préambule _(9 points)_\n",
    "  - **1.1** Chargement des données _(0,5 points)_\n",
    "  - **1.2** Optimisation de la taille en mémoire _(2 points)_\n",
    "  - **1.3** Visualisation des données _(2 points)_\n",
    "  - **1.4** Classification des éléments du jeu _(1,5 points)_\n",
    "  - **1.5** Recherche de la position du joueur _(1 point)_\n",
    "  - **1.6** Amélioration de l'affichage _(2 points)_\n",
    "- **Partie 2** Le Sokoban (11 points + 0.5 bonus)\n",
    "  - **2.1** Décomposition du niveau en plusieurs \"couches\"\n",
    "    - **2.1.1** Extraction du niveau sans joueur _(1 point + 0.5 bonus)_\n",
    "    - **2.1.2** Déplacement du joueur (basique) _(1 point)_\n",
    "  - **2.2** Déplacement interactif\n",
    "    - **2.2.1** Calcul des nouvelles coordonnées _(1 point)_\n",
    "    - **2.2.2** Déplacement complet _(2 points)_\n",
    "  - **2.3** Gestion des collisions _(2 points)_\n",
    "  - **2.4** Le joueur qui pousse les blocs _(2 points)_\n",
    "  - **2.5** Zone d'arrivée et fin de jeu\n",
    "    - **2.5.1** Conservation de la zone d'arrivée _(1 point)_\n",
    "    - **2.5.2** Détection de la fin du jeu _(1 point)_\n",
    "  - **3** BONUS (3 points bonus)"
   ]
  },
  {
   "cell_type": "code",
   "execution_count": null,
   "id": "18c6cac8",
   "metadata": {},
   "outputs": [],
   "source": [
    "import numpy as np\n",
    "import matplotlib.pyplot as plt\n",
    "import ipywidgets as widgets\n",
    "import helpers\n",
    "\n",
    "plt.rcParams[\"figure.figsize\"] = (5, 4)"
   ]
  },
  {
   "cell_type": "markdown",
   "id": "88ffd351",
   "metadata": {},
   "source": [
    "## 1. Préambule\n",
    "\n",
    "### 1.1. Chargement des données (0,5 points)\n",
    "\n",
    "étant donné le tableau suivant, au format \"liste Python\":\n",
    "\n",
    "```python\n",
    "[\n",
    "    [0,0,0,0,0,0,0,0,0,0,0,0,0,0,0,0,0,0,0,0,0,0,0],\n",
    "    [0,0,0,0,0,0,1,1,1,1,1,0,0,0,0,0,0,0,0,0,0,0,0],\n",
    "    [0,0,0,0,0,0,1,0,0,0,1,0,0,0,0,0,0,0,0,0,0,0,0],\n",
    "    [0,0,0,0,0,0,1,2,0,0,1,0,0,0,0,0,0,0,0,0,0,0,0],\n",
    "    [0,0,0,0,1,1,1,0,0,2,1,1,0,0,0,0,0,0,0,0,0,0,0],\n",
    "    [0,0,0,0,1,0,0,2,0,2,0,1,0,0,0,0,0,0,0,0,0,0,0],\n",
    "    [0,0,1,1,1,0,1,0,1,1,0,1,0,0,0,1,1,1,1,1,1,0,0],\n",
    "    [0,0,1,0,0,0,1,0,1,1,0,1,1,1,1,1,0,0,4,4,1,0,0],\n",
    "    [0,0,1,0,2,0,0,2,0,0,0,0,0,0,0,0,0,0,4,4,1,0,0],\n",
    "    [0,0,1,1,1,1,1,0,1,1,1,0,1,3,1,1,0,0,4,4,1,0,0],\n",
    "    [0,0,0,0,0,0,1,0,0,0,0,0,1,1,1,1,1,1,1,1,1,0,0],\n",
    "    [0,0,0,0,0,0,1,1,1,1,1,1,1,0,0,0,0,0,0,0,0,0,0],\n",
    "    [0,0,0,0,0,0,0,0,0,0,0,0,0,0,0,0,0,0,0,0,0,0,0],\n",
    "]\n",
    "```\n",
    "\n",
    "**il vous est demandé de convertir cette liste Python en un tableau `numpy` que nous nommerons `niveau`.** (0,25 points)"
   ]
  },
  {
   "cell_type": "code",
   "execution_count": null,
   "id": "41e80921",
   "metadata": {},
   "outputs": [],
   "source": [
    "# À remplacer 👇 par le code de chargement du tableau ci-dessus ☝️\n",
    "niveau = np.zeros((10, 10))"
   ]
  },
  {
   "cell_type": "markdown",
   "id": "4441c3f9",
   "metadata": {},
   "source": [
    "Répondez aux questions suivantes:\n",
    "- quelle est la dimension de ce tableau ? (0,25 points)"
   ]
  },
  {
   "cell_type": "code",
   "execution_count": null,
   "id": "9f347791",
   "metadata": {},
   "outputs": [],
   "source": [
    "# dimension du tableau \"niveau\" (lignes, colonnes)"
   ]
  },
  {
   "cell_type": "markdown",
   "id": "e88fbef1",
   "metadata": {},
   "source": [
    "- quel est le type des données contenues dans ce tableau ? (0,25 points)\n",
    "  <br>décrivez ce type de données: nature, valeurs possibles, taille de chaque case en mémoire "
   ]
  },
  {
   "cell_type": "code",
   "execution_count": null,
   "id": "53d5c01d",
   "metadata": {},
   "outputs": [],
   "source": [
    "# afficher le type des cases du tableau niveau"
   ]
  },
  {
   "cell_type": "markdown",
   "id": "1ed8170d",
   "metadata": {},
   "source": [
    "_décrire le type ici_"
   ]
  },
  {
   "cell_type": "code",
   "execution_count": null,
   "id": "c26351e6",
   "metadata": {},
   "outputs": [],
   "source": [
    "niveau.dtype"
   ]
  },
  {
   "cell_type": "markdown",
   "id": "348122fd",
   "metadata": {},
   "source": [
    "- quelle place toutes les cases du tableau occupent-elles en mémoire ? (0,25 point)"
   ]
  },
  {
   "cell_type": "code",
   "execution_count": null,
   "id": "46db3cf5",
   "metadata": {},
   "outputs": [],
   "source": [
    "# taille de niveau en mémoire"
   ]
  },
  {
   "cell_type": "markdown",
   "id": "9c17e0ed",
   "metadata": {},
   "source": [
    "### 1.2. Optimisation de la taille en mémoire (2 points)\n",
    "\n",
    "Nous allons désormais nous intéresser à la nature des données stockées dans ce tableau.\n",
    "\n",
    "Répondez aux questions suivantes:"
   ]
  },
  {
   "cell_type": "markdown",
   "id": "f09d2c24",
   "metadata": {},
   "source": [
    "- quelles sont les valeurs minimales et maximales ? (1 point)"
   ]
  },
  {
   "cell_type": "code",
   "execution_count": null,
   "id": "757d5c56",
   "metadata": {},
   "outputs": [],
   "source": [
    "# valeurs min et max"
   ]
  },
  {
   "cell_type": "markdown",
   "id": "1b73b785",
   "metadata": {},
   "source": [
    "- convertissez `niveau` dans un type optimisé, afin qu'il utilise le moins de mémoire possible sans altérer les données qu'il contient (1 point)"
   ]
  },
  {
   "cell_type": "code",
   "execution_count": null,
   "id": "31fcadb6",
   "metadata": {},
   "outputs": [],
   "source": [
    "niveau = niveau # à optimiser !"
   ]
  },
  {
   "cell_type": "markdown",
   "id": "ae734b79",
   "metadata": {},
   "source": [
    "### 1.3. Visualisation des données (2 points)\n",
    "\n",
    "Affichez les données comme une image. (1 point)"
   ]
  },
  {
   "cell_type": "code",
   "execution_count": null,
   "id": "73a0befa",
   "metadata": {},
   "outputs": [],
   "source": [
    "# affichage de niveau comme une image"
   ]
  },
  {
   "cell_type": "markdown",
   "id": "1ba696f7",
   "metadata": {},
   "source": [
    "- Expliquez d'où viennent les couleurs que vous voyez à l'écran (1 point)"
   ]
  },
  {
   "cell_type": "markdown",
   "id": "1687029b",
   "metadata": {},
   "source": [
    "_votre explication ici_"
   ]
  },
  {
   "cell_type": "markdown",
   "id": "c91d453f",
   "metadata": {},
   "source": [
    "### 1.4. Classification des éléments du jeu (1,5 points)\n",
    "\n",
    "##### Un peu de contexte\n",
    "\n",
    "Ces données représentent les éléments constitutifs du niveau 1 du jeu **Sokoban**, un (très) vieux jeu vidéo où le joueur doit \"pousser\" des blocs en direction d'une zone d'arrivée.\n",
    "\n",
    "En pratique, voici à quoi ressemblait ce niveau dans l'ancienne version MS-DOS du jeu:\n",
    "\n",
    "![niveau 1](images/level1.jpg)\n",
    "\n",
    "**arrivez-vous à retrouver les éléments du jeu dans cette image ?**\n",
    "\n",
    "Vous pouvez consulter [la règle du jeu sur Wikipedia](https://fr.wikipedia.org/wiki/Sokoban) ainsi que [cette vidéo Youtube du premier niveau](https://www.youtube.com/watch?v=LZvLyw6Kcz0) – dont cette image est extraite – pour comprendre le gameplay."
   ]
  },
  {
   "cell_type": "markdown",
   "id": "8df7502b",
   "metadata": {},
   "source": [
    "\n",
    "en utilisant l'image ci-dessus et votre propre rendu de la matrice `niveau`, retrouvez la valeur qui correspond à chacun des éléments du jeu: (0,5 points)"
   ]
  },
  {
   "cell_type": "code",
   "execution_count": null,
   "id": "d23e3b98",
   "metadata": {},
   "outputs": [],
   "source": [
    "# retrouvez les codes de chacun des éléments du jeu\n",
    "# 💡 je vous donne la première valeur pour exemple\n",
    "vide = 0 # valeur correspondant aux cases vides (bleu clair dans l'image)\n",
    "\n",
    "# vous devez trouver les suivantes 👇 (qui ne sont pas 0 évidemment)\n",
    "bloc = 0    # valeur correspondant aux blocs de pierre, cf. image ci-dessus\n",
    "arrivee = 0 # valeur correspondant aux cases de la zone d'arrivée\n",
    "mur = 0     # valeur correspondant aux murs (violets dans l'image)\n",
    "joueur = 0  # valeur correspondant au joueur\n",
    "arrivee = 0 # valeur correspondant aux cases de la zone d'arrivée"
   ]
  },
  {
   "cell_type": "markdown",
   "id": "bbb9d1b7",
   "metadata": {},
   "source": [
    "En utilisant ces valeurs désormais identifiées:\n",
    "\n",
    "- extrayez une image pour chacune des couches d'objets (hors vide): murs, blocs, joueur, arrivée (0,5 point)\n",
    "- et **les afficher dans une figure de $2 \\times 2$ images**. (0,5 point)"
   ]
  },
  {
   "cell_type": "markdown",
   "id": "d68fbcd1",
   "metadata": {},
   "source": [
    "##### Rappels\n",
    "\n",
    "Comme vu en cours, vous pouvez utiliser la fonction `plt.subplots()` pour créer à la fois une une figure et des sous-figures (\"Axes\"), en autant de lignes et de colonnes que nécessaire.\n",
    "\n",
    "##### Astuces\n",
    "\n",
    "- le site de Numpy propose des [exemples de tels graphes](https://matplotlib.org/stable/gallery/subplots_axes_and_figures/subplots_demo.html) dont vous pourrez vous inspirer\n",
    "- votre rendu devrait ressembler à ça _a minima_:\n",
    "  \n",
    "  ![](images/4-patch.png)"
   ]
  },
  {
   "cell_type": "code",
   "execution_count": null,
   "id": "85837328",
   "metadata": {},
   "outputs": [],
   "source": [
    "# extraction et affichage des couches"
   ]
  },
  {
   "cell_type": "markdown",
   "id": "a78000a5",
   "metadata": {},
   "source": [
    "### 1.5. Recherche de la position du joueur (1 point)\n",
    "\n",
    "Écrire une fonction `trouver_joueur` qui étant donné un niveau retourne les coordonnées du joueur sous la forme d'un `tuple` `(x, y)`. \n",
    "\n",
    "**Indices**:\n",
    "- vous avez vu en cours comment retrouver la position des min/max d'un tableau dans votre TP [`2-07-numpy-aggregate`](https://github.com/ue12-p22/python-numerique/blob/main/notebooks/2-07-numpy-aggregate.py)"
   ]
  },
  {
   "cell_type": "code",
   "execution_count": null,
   "id": "bced4843",
   "metadata": {},
   "outputs": [],
   "source": [
    "# retourne coordonnées (x, y) du joueur dans le niveau\n",
    "def trouver_joueur(niveau):\n",
    "    # TODO calculer la position du joueur dans le niveau !\n",
    "    return (0, 0)"
   ]
  },
  {
   "cell_type": "markdown",
   "id": "1cb71260",
   "metadata": {},
   "source": [
    "Votre fonction doit retourner le tuple `(9, 13)` pour le niveau d'exemple. **Évaluez la cellule ci-dessous 👇**, elle renverra une erreur si votre fonction de renvoie pas le bon résultat."
   ]
  },
  {
   "cell_type": "code",
   "execution_count": null,
   "id": "e31ff8d1",
   "metadata": {
    "lines_to_next_cell": 0
   },
   "outputs": [],
   "source": [
    "tests = [\n",
    "    ( [niveau], (9, 13) ) # ( arguments , résultat attendu )\n",
    "]\n",
    "helpers.test_table(trouver_joueur, tests)"
   ]
  },
  {
   "cell_type": "markdown",
   "id": "a802f9f9",
   "metadata": {},
   "source": [
    "### 1.6. Amélioration de l'affichage (2 points)\n",
    "\n",
    "Afin d'avoir un rendu plus proche de celui du jeu, vous devez désormais créer une fonction `affiche_niveau(ax, niveau)` qui prend en paramètres:\n",
    "- un objet de type `matplotlib.axes.Axes`\n",
    "- le niveau à afficher sous forme d'un tableau `numpy`\n",
    "\n",
    "Il ne vous est pas demandé de faire un rendu exact, mais seulement de personnaliser l'affichage afin de changer:\n",
    "\n",
    "- les couleurs pour les rendre plus proches de celles du jeu (1 points)\n",
    "- enlever les bordures autour du plot (1 point)\n",
    "\n",
    "**Remarques & astuces**:\n",
    "\n",
    "- nous vous donnons des couleurs RBG pré-remplies dans le code ci-dessous: libre à vous de les utiliser ou d'en choisir d'autres\n",
    "- la fonction prenant des axes en argument – cela est nécessaire pour les fonctions interactives ci-après – ce sont ces axes qu'il faudra personnaliser\n",
    "- pour tout ce qui concerne les graphes et Matplotlib, essayez d'acquérir le réflexe de [parcourir la documentation](https://matplotlib.org/stable/api/axes_api.html#id16)\n",
    "\n",
    "Pour répondre à la première partie de la question (les couleurs) vous aurez besoin de \"l'indexation d'un tableau par un tableau\" que nous avons vu à la fin du dernier cours. Vous pouvez toujours consulter la [documentation de Numpy](https://numpy.org/doc/stable/user/basics.indexing.html#integer-array-indexing) pour plus d'information à ce propos ou faire une [recherche Google](https://letmegooglethat.com/?q=numpy+index+array+with+another+array) pour trouver des exemples.\n",
    "\n",
    "Pour répondre à la seconde partie de la question (les bordures) vous devrez consulter [la documentation de Pyplot](https://matplotlib.org/stable/api/axes_api.html#id16) et/ou les exemples sur le site de Matplotlib pour trouver comment réaliser les modifications demandées.\n",
    "\n",
    "**Si vous n'y arrivez vraiment pas, laissez le code initial et continuez votre TP !**\n",
    "\n",
    "```python\n",
    "# code par défaut, à utiliser si vous voulez continuer le TP sans répondre à cette question\n",
    "def affiche_niveau(ax, niveau): \n",
    "    ax.imshow(niveau)\n",
    "```"
   ]
  },
  {
   "cell_type": "markdown",
   "id": "57942293",
   "metadata": {},
   "source": [
    "**à vous de jouer !**\n",
    "\n",
    "pour commencer, voici une sélection de couleurs au format `(R, G, B)` _(que vous avez toute latitude de modifier !)_:"
   ]
  },
  {
   "cell_type": "code",
   "execution_count": null,
   "id": "a1d63a83",
   "metadata": {},
   "outputs": [],
   "source": [
    "# bleu clair du fond\n",
    "couleur_vide = (137, 250, 253)\n",
    "# gris des blocs\n",
    "couleur_bloc = (174, 211, 211)\n",
    "# blanc (=joueur)\n",
    "couleur_joueur = (255, 255, 255)\n",
    "# violet des murs\n",
    "couleur_mur = (220, 99, 231)\n",
    "# noir = zone d'arrivée\n",
    "couleur_arrivee = (0, 0, 0)"
   ]
  },
  {
   "cell_type": "markdown",
   "id": "e413bbfa",
   "metadata": {},
   "source": [
    "Votre mission est donc de créer un tableau des couleurs _dans le bon ordre_ puis de _configurer votre plot_ pour en tenir compte:"
   ]
  },
  {
   "cell_type": "code",
   "execution_count": null,
   "id": "fddc457f",
   "metadata": {
    "lines_to_next_cell": 1
   },
   "outputs": [],
   "source": [
    "# complétez la fonction ci-dessous\n",
    "couleurs = np.array([\n",
    "    # 👈 ajoutez les couleurs dans le bon ordre\n",
    "])  # 👈 ajoutez aussi un dtype !\n",
    "\n",
    "def affiche_niveau(ax, niveau):\n",
    "    # ... votre personnalisation du graphe ici 👇\n",
    "    ax.imshow(niveau)"
   ]
  },
  {
   "cell_type": "markdown",
   "id": "edceabc6",
   "metadata": {},
   "source": [
    "pour tester l'affichage, on exécutera la cellule suivante qui affiche le résultat:"
   ]
  },
  {
   "cell_type": "code",
   "execution_count": null,
   "id": "0820e9a5",
   "metadata": {},
   "outputs": [],
   "source": [
    "ax = plt.gca() # un objet Axes généré par pyplot\n",
    "affiche_niveau(ax, niveau)"
   ]
  },
  {
   "cell_type": "markdown",
   "id": "ccc944f9",
   "metadata": {},
   "source": [
    "## 2. Le Sokoban\n",
    "\n",
    "Dans cette partie, nous allons donner \"vie\" au jeu en implémentant des opérations matricielles, qui correspondront aux actions du joueur. \n",
    "\n",
    "Pour bien aborder cette partie, rappelez-vous que vous pouvez consulter à tout moment la [documentation de Numpy](https://numpy.org/doc/stable/) pour chercher des fonctions utiles et à relire vos supports de cours, en particuliers ceux sur les slicing et les masques.\n",
    "\n",
    "Les différentes questions de cette partie ont pour objectif de vous faire coder le déplacement du joueur et des éléments du jeu, tels qu'illustrés dans cette animation:\n",
    "\n",
    "![](images/step1.gif)"
   ]
  },
  {
   "cell_type": "markdown",
   "id": "1925f7c5",
   "metadata": {},
   "source": [
    "### 2.1. Décomposition du niveau en plusieurs \"couches\"\n",
    "\n",
    "Notes première étape pour aborder le déplacement dans le niveau consiste à étudier le découpage du niveau en plusieurs parties.\n",
    "\n",
    "#### 2.1.1 Extraction du niveau sans joueur (1 point)\n",
    "\n",
    "Écrire le code nécessaire pour supprimer le joueur du niveau, en le remplaçant par une case vide.\n",
    "\n",
    "**Conseil**\n",
    "\n",
    "pour cette question, je vous propose 2 approches:\n",
    "- vous pouvez lire la documentation de [`np.where`](https://numpy.org/doc/stable/reference/generated/numpy.where.html) qui fournit une solution élégante à ce genre de problèmes, et l'utiliser pour répondre à la question\n",
    "- vous pouvez également vous en passer, mais dans ce cas pensez à travailler sur une _copie_ de `niveau` (via un appel à [`.copy()`](https://numpy.org/doc/stable/reference/generated/numpy.ndarray.copy.html) typiquement)\n",
    "\n",
    "**BONUS** si vous arrivez à me proposer deux solutions – correctes – différentes (par ex. avec `np.where` et sans) à cette questions vous pourrez avoir 0.5 points supplémentaires !"
   ]
  },
  {
   "cell_type": "code",
   "execution_count": null,
   "id": "ab0ceb7b",
   "metadata": {},
   "outputs": [],
   "source": [
    "niveau_sans_joueur = niveau.copy() # 👈 à remplacer par votre code"
   ]
  },
  {
   "cell_type": "markdown",
   "id": "857a3379",
   "metadata": {},
   "source": [
    "Pour valider votre code, évaluez la cellule suivante qui affiche l'image finale sans joueur:"
   ]
  },
  {
   "cell_type": "code",
   "execution_count": null,
   "id": "a9a2c910",
   "metadata": {},
   "outputs": [],
   "source": [
    "affiche_niveau(plt.gca(), niveau_sans_joueur)"
   ]
  },
  {
   "cell_type": "markdown",
   "id": "6a81ef4a",
   "metadata": {},
   "source": [
    "#### 2.1.2 Déplacement du joueur (basique) (1 point)\n",
    "\n",
    "on peut maintenant \"faire bouger\" le joueur en le ré-insérant à une autre position.\n",
    "\n",
    "**Affichez une nouvelle image dans laquelle le joueur est désormais à la position `(8, 13)`**\n",
    "\n",
    "_💡 on pensera à partir de l'image `niveau_sans_joueur` qu'on vient de générer !"
   ]
  },
  {
   "cell_type": "code",
   "execution_count": null,
   "id": "97c53c58",
   "metadata": {},
   "outputs": [],
   "source": [
    "nouvelle_position_joueur = (8, 13)\n",
    "\n",
    "# À modifier pour déplacer le joueur 👇\n",
    "niveau_joueur_deplace = niveau_sans_joueur.copy()"
   ]
  },
  {
   "cell_type": "markdown",
   "id": "dfa3fd08",
   "metadata": {},
   "source": [
    "Pour valider votre code, évaluez la cellule suivante qui affiche l'image:"
   ]
  },
  {
   "cell_type": "code",
   "execution_count": null,
   "id": "ebb3a40f",
   "metadata": {
    "lines_to_next_cell": 1
   },
   "outputs": [],
   "source": [
    "affiche_niveau(plt.gca(), niveau_joueur_deplace)"
   ]
  },
  {
   "cell_type": "markdown",
   "id": "dd660770",
   "metadata": {},
   "source": [
    "### 2.2. Déplacement interactif\n",
    "\n",
    "#### 2.2.1 Calcul des nouvelles coordonnées (1 point)\n",
    "\n",
    "Créez une fonction `deplace_position(position, direction)` qui prend en paramètres:\n",
    "\n",
    "- la `position` actuelle du joueur, sous forme d'un tuple `(x, y)`\n",
    "- une `direction` parmi `[ \"H\", \"B\", \"G\", \"D\" ]`\n",
    "\n",
    "et retourne **la nouvelle position du joueur** après déplacement.\n",
    "\n",
    "les valeurs de `direction`s correspondant à un déplacement d'une case vers le haut (`H`), le bas (`B`), la gauche (`G`) ou la droite (`D`) respectivement."
   ]
  },
  {
   "cell_type": "code",
   "execution_count": null,
   "id": "841e15c2",
   "metadata": {},
   "outputs": [],
   "source": [
    "def deplace_position(position, direction):\n",
    "    # ajouter votre code de déplacement ici 👇\n",
    "    return position"
   ]
  },
  {
   "cell_type": "markdown",
   "id": "e046e70f",
   "metadata": {},
   "source": [
    "Votre implémentation est correcte si l'évaluation de la cellule ci-dessous ne renvoie pas d'erreur:"
   ]
  },
  {
   "cell_type": "code",
   "execution_count": null,
   "id": "ad2cd732",
   "metadata": {
    "lines_to_next_cell": 1
   },
   "outputs": [],
   "source": [
    "# arguments -> résultat attendu\n",
    "tests = [\n",
    "        ( [ (5, 5), \"H\" ], (4, 5) ),\n",
    "        ( [ (4, 6), \"B\" ], (5, 6) ),\n",
    "        ( [ (6, 6), \"G\" ], (6, 5) ),\n",
    "        ( [ (1, 2), \"D\" ], (1, 3) ), \n",
    "]\n",
    "helpers.test_table(deplace_position, tests)"
   ]
  },
  {
   "cell_type": "markdown",
   "id": "3da063cd",
   "metadata": {},
   "source": [
    "#### 2.2.2. Déplacement complet (2 points)\n",
    "\n",
    "Nous disposons maintenant de toutes les pièces nécessaire pour coder la fonction de déplacement \"complète\".\n",
    "\n",
    "**Codez une fonction (pour 2 points) `deplace_joueur(niveau, direction)`** qui prend en argument:\n",
    "\n",
    "- le `niveau`\n",
    "- une `direction` parmi `\"H\"`, `\"B\"`, `\"G\"` et `\"D\"`\n",
    "\n",
    "et retourne un **nouveau** tableau représentant le niveau dans lequel le joueur s'est déplacé."
   ]
  },
  {
   "cell_type": "markdown",
   "id": "374071bf",
   "metadata": {},
   "source": [
    "##### Rappels et suggestions\n",
    "\n",
    "Il existe **beaucoup** de manières différentes d'implémenter cette fonctionnalité vous trouverez ci-après une suggestion de marche à suivre. Libre à vous d'en proposer une autre, la [documentation de Numpy](https://numpy.org/doc/stable/) fournissant de nombreuses fonctionnalité pour travailler sur les tableaux.\n",
    "\n",
    "Voici une d'approche possible pour cette question:\n",
    "\n",
    "1. Extraire le joueur du niveau, c-à-d. générer une image sans le joueur (on le remplacera par une case `vide`)\n",
    "2. Trouver la position du joueur dans le niveau et calculer la nouvelle position après déplacement\n",
    "3. Ré-assembler l'image finale\n",
    "\n",
    "voici en images les étapes de ce procédé:\n",
    "\n",
    "![](./images/joueur.jpg)\n",
    "\n",
    "De plus, je vous invite à relire votre TP sur les masques [`2-09-numpy-array-testing`](https://github.com/ue12-p22/python-numerique/blob/main/notebooks/2-09-numpy-array-testing.py) qui explique comment utiliser les opérateurs booléens.\n",
    "\n",
    "Pensez à **utiliser les modules d'aides disponibles en dessous du bloc python 👇** pour tester votre fonction au fur et à mesure de vos développements"
   ]
  },
  {
   "cell_type": "code",
   "execution_count": null,
   "id": "3d7e4a26",
   "metadata": {},
   "outputs": [],
   "source": [
    "def deplace_joueur(niveau, direction):\n",
    "    # Étape 1: découper l'image en deux parties (image sans le joueur + joueur seul)\n",
    "    # 💡 pensez à np.where !\n",
    "    niveau_sans_joueur = niveau # 👈 à remplacer par le code qui extrait le niveau sans le joueur\n",
    "\n",
    "    # Étape 2: déplacer le joueur \n",
    "    # 💡 pensez à utiliser les fonctions définies en 1.5 et 2.2.1\n",
    "    position_joueur = (0, 0) # 👈 à remplacer la position du joueur dans le niveau\n",
    "    position_joueur_deplace = position_joueur # 👈 à remplacer la nouvelle position du joueur après déplacement dans \"direction\"\n",
    "\n",
    "    # Étape 3: ré-assembler l'image\n",
    "    # 👇 insérer ici votre code pour ré-ajouter le joueur sur l'image, à sa nouvelle position\n",
    "    return niveau_sans_joueur"
   ]
  },
  {
   "cell_type": "markdown",
   "id": "7f44f5a3",
   "metadata": {},
   "source": [
    "#### Test interactif de votre fonction\n",
    "\n",
    "Une fois votre fonction codée, **évaluez cellule ci-dessous** pour pouvoir tester votre fonction de façon interactive:\n",
    "\n",
    "- un clic sur la flèche du haut correspondra à `deplace_joueur(niveau, \"H\")`\n",
    "- un clic sur la flèche du bas correspondra à `deplace_joueur(niveau, \"B\")`\n",
    "- etc."
   ]
  },
  {
   "cell_type": "code",
   "execution_count": null,
   "id": "ea3c8240",
   "metadata": {},
   "outputs": [],
   "source": [
    "helpers.render_controls(niveau, locals=locals())"
   ]
  },
  {
   "cell_type": "markdown",
   "id": "a98c890b",
   "metadata": {},
   "source": [
    "_Qu'observez-vous ?_ (1 points)\n",
    "\n",
    "Décrivez dans la case Markdown ci-dessous le comportement de votre implémentation et expliquez ce qui pourrait être amélioré (la réponse **dépend** de votre approche au problème et doit être unique !)"
   ]
  },
  {
   "cell_type": "markdown",
   "id": "8d393544",
   "metadata": {},
   "source": [
    "_rédigez votre description **ici**_"
   ]
  },
  {
   "cell_type": "markdown",
   "id": "9856a55d",
   "metadata": {},
   "source": [
    "#### Test scriptés\n",
    "\n",
    "la cellule ci-dessous permet d'afficher le comportement de votre fonction dans différents scénarios.\n",
    "\n",
    "Les déplacement sont encodés sous forme d'une chaîne de caractères, en utilisant les directions (`H`, `G`, `D` et `B`) en séquence, par ex:\n",
    "\n",
    "- `\"H\"` signifie un déplacement vers le haut\n",
    "- `\"HGGG\"` signifie un déplacement vers le haut puis 3 déplacements vers la gauche\n",
    "- etc.\n",
    "\n",
    "vous trouverez ci-dessous une série de déplacement dont le rendu final doit ressembler à l'image ci-dessous, les traits rouges ayant été rajoutés pour illustrer les déplacements:\n",
    "\n",
    "![](images/deps1.png)"
   ]
  },
  {
   "cell_type": "code",
   "execution_count": null,
   "id": "2e597c3c",
   "metadata": {
    "lines_to_next_cell": 1
   },
   "outputs": [],
   "source": [
    "helpers.affiche_sequences_joueur( \n",
    "        # sequence sans mouvement (= position initiale)\n",
    "        \"\",\n",
    "        # un déplacement vers le haut\n",
    "        \"H\",\n",
    "        # un déplacement dans le couloir à gauche\n",
    "        \"HGGG\",\n",
    "        # le tour par le bas\n",
    "        \"HGGBBGGGGH\",\n",
    "niveau=niveau,    \n",
    "locals=locals())"
   ]
  },
  {
   "cell_type": "markdown",
   "id": "d9ddac4d",
   "metadata": {},
   "source": [
    "### 2.3 Gestion des collisions\n",
    "\n",
    "On se pose désormais la question des mouvements qui sont autorisés et de ceux qui ne le sont pas.\n",
    "\n",
    "**Reprenez votre fonction `deplace_joueur` et modifiez-là** pour rajouter les contraintes suivantes:\n",
    "\n",
    "- le joueur n'est pas autorisé à \"traverser\" un mur\n",
    "- le joueur n'est pas autorisé à \"traverser\" un bloc\n",
    "\n",
    "##### Pointeurs\n",
    "\n",
    "Je vous conseille de bien relire le TP [`2-07-numpy-aggregate`](https://github.com/ue12-p22/python-numerique/blob/main/notebooks/2-07-numpy-aggregate.py) qui vous donnera un bon point de départ sur les aggrégats et en particulier les façons de tester des conditions sur les tableaux numpy.\n",
    "\n",
    "\n",
    "##### Approche suggérée\n",
    "\n",
    "Ainsi, une façon d'approcher ce puzzle est de procéder par étapes, et de commencer par **copier-coller** votre solutions précédente pour l'enrichir.\n",
    "\n",
    "En pratique, on rajoute **une étape** dans l'algorithme précédent:\n",
    "\n",
    "1. Extraire le joueur du niveau, c-à-d. générer une image sans le joueur (on le remplacera par une case `vide`)\n",
    "2. Trouver la position du joueur dans le niveau et calculer la nouvelle position après déplacement\n",
    "3. **Tester les collision**s\n",
    "   - **3a Si le joueur intersecte un mur, on ne valide pas le déplacement et on retourne `niveau`**\n",
    "   - **3b Si le joueur intersecte un bloc, on ne valide pas le déplacement et on retourne `niveau`**\n",
    "4. Ré-assembler l'image finale\n",
    "\n",
    "ce que l'on peut visualiser ainsi:\n",
    "\n",
    "![](images/etape2.jpg)"
   ]
  },
  {
   "cell_type": "code",
   "execution_count": null,
   "id": "f325e790",
   "metadata": {},
   "outputs": [],
   "source": [
    "def deplace_joueur(niveau, direction):\n",
    "    # Étapes 1 et 2 \n",
    "    # 👇 💡 à copier de votre réponse à la question 2.2.2\n",
    "    niveau_sans_joueur = niveau\n",
    "    position_joueur = (0, 0)\n",
    "    position_joueur_deplace = position_joueur\n",
    "\n",
    "    # Étape 3: tests de collision\n",
    "    ## 3a test de collision avec le mur\n",
    "    ## 💡 pensez à l'utilisation des masques !\n",
    "    if False: # 👈 remplacer False par un test d'intersection du joueur \"déplacé\" et du mur\n",
    "        return niveau\n",
    "    ## 3b tester la collision\n",
    "    ## 💡 pensez à l'utilisation des masques !\n",
    "    if False: # 👈 remplacer False par un test d'intersection du joueur \"déplacé\" et d'un bloc\n",
    "        return niveau\n",
    "\n",
    "    # Étape 4: ré-assembler l'image deu fond et le joueur\n",
    "    # 👇 copiez le code de l'étape 3 depuis votre implémentation précédente (cf. question 2.2.2)\n",
    "    return niveau_sans_joueur   "
   ]
  },
  {
   "cell_type": "markdown",
   "id": "775cabe7",
   "metadata": {},
   "source": [
    "#### Test interactif de votre fonction\n",
    "\n",
    "Comme précédemment, vous pouvez tester votre développement avec le suivant:"
   ]
  },
  {
   "cell_type": "code",
   "execution_count": null,
   "id": "8d86277b",
   "metadata": {},
   "outputs": [],
   "source": [
    "helpers.render_controls(niveau, locals=locals())"
   ]
  },
  {
   "cell_type": "markdown",
   "id": "066eb1c5",
   "metadata": {},
   "source": [
    "#### Tests scriptés\n",
    "\n",
    "Les tests suivants permettent d'évaluer votre fonction à `deplace_joueur()` sur des cas simples d'utilisation.\n",
    "\n",
    "Le résultat obtenu devrait ressembler à:\n",
    "\n",
    "![](images/blocages.png)"
   ]
  },
  {
   "cell_type": "code",
   "execution_count": null,
   "id": "fd2c51ea",
   "metadata": {
    "lines_to_next_cell": 1
   },
   "outputs": [],
   "source": [
    "helpers.affiche_sequences_joueur(\n",
    "    # sequence sans mouvement (= position initiale)\n",
    "    \"\",\n",
    "    # un déplacement vers le haut, autorisé\n",
    "    \"H\",\n",
    "    # un déplacement vers le bas, interdit (ne dois PAS déplacer le joueur)\n",
    "    \"B\",\n",
    "    # un déplacement mixte, où certains mouvements sont interdits et ignorés (le H du milieu)\n",
    "    \"HGHG\",\n",
    "    # blocages contre les murs et les blocs\n",
    "    \"HGHGGGHHHGGG\",\n",
    "niveau=niveau,    \n",
    "locals=locals())"
   ]
  },
  {
   "cell_type": "markdown",
   "id": "2e433139",
   "metadata": {},
   "source": [
    "### 2.4. Le joueur qui pousse les blocs (2 points)\n",
    "\n",
    "Nous avons désormais toutes les pièces du puzzle en place.\n",
    "\n",
    "Pour finir sur le déplacement du joueur, modifiez à nouveau fois votre fonction `deplace_joueur()` pour se comporter ainsi (**en gras** les ajouts par rapport à 2.3):\n",
    "\n",
    "1. Extraire le joueur *et les blocs** du niveau, c-à-d. générer une image sans le joueur **ni blocs** (on les remplacera par des cases `vide`) ainsi qu'**un masque de la position des blocs**\n",
    "2. Trouver la position du joueur dans le niveau et calculer la nouvelle position après déplacement\n",
    "3. Tester les collisions\n",
    "   - 3a. Si le joueur intersecte un mur, on ne valide pas le déplacement et on retourne `niveau`\n",
    "   - 3b. Si le joueur intersecte un bloc, on **va essayer de le déplacer**:\n",
    "     - **on calcule la nouvelle position du bloc, si on le déplace dans la même `direction`**\n",
    "     - **on teste cette position pour une éventuelle intersection avec un mur ou un bloc, et le cas échéant on retourne `niveau`**\n",
    "     - **on met à jour notre masque des blocs**\n",
    "4. Ré-assembler l'image finale, **en rajoutant à la fois les blocs et le joueur à l'image de \"fond\"**\n",
    "\n",
    "\n",
    "![](images/step2.gif)\n",
    "\n",
    "**Remarques**\n",
    "\n",
    "quelques rappels sur le déplacement des blocs:\n",
    "- le joueur peut déplacer un bloc quand il se trouve en contact avec un bloc et se déplace dans la direction du bloc\n",
    "- l'\"arrière\" du bloc doit être libre: il ne doit pas y avoir un mur ou un autre bloc"
   ]
  },
  {
   "cell_type": "code",
   "execution_count": null,
   "id": "5a2b472f",
   "metadata": {
    "lines_to_next_cell": 1
   },
   "outputs": [],
   "source": [
    "def deplace_joueur(niveau, direction):\n",
    "    # Étape 1: découper l'image en deux parties (image sans joueur ni bloc + masque des blocs)\n",
    "    # 💡 on s'inspirera évidemment des réponses aux questions précédentes 2.2.2 et 2.3\n",
    "    niveau_sans_joueur_ni_bloc = niveau # 👈 attention il faut enlever le joueur ET les blocs de l'image\n",
    "    masque_des_blocs = np.full(niveau.shape, False) # 👈 à remplacer par un masque qui vaut True pour les blocs\n",
    "\n",
    "    # Étape 2: déplacer le joueur\n",
    "    # 💡 toujours le même code depuis 2.2.2 !\n",
    "    position_joueur = (0, 0)\n",
    "    position_joueur_deplace = position_joueur\n",
    "    \n",
    "    # Étape 3a: on compare la position du joueur et le masque des murs\n",
    "    # 💡 même code qu'en 2.3\n",
    "    if False: # 👈 remplace False par un test de collision avec un murs\n",
    "        return niveau\n",
    "    \n",
    "    # Étape 3b: on compare la position du joueur et le masque des blocs\n",
    "    if False: # 👈 remplace False par un test de collision avec un bloc\n",
    "        # 💡 pensez à utiliser votre réponse à la question 2.2.1 \n",
    "        position_bloc_deplace = position_joueur_deplace # 👈 à remplacer par la nouvelle position du bloc après déplacement\n",
    "        if False: # 👈 remplacer False par un test de collision du bloc déplacé avec un mur\n",
    "            return niveau\n",
    "        if False: # 👈 remplacer False par un test de collision du bloc déplacé avec un autre bloc\n",
    "            return niveau\n",
    "        # 👇 ajouter le code pour déplacer le bloc, c-à-d.\n",
    "        #    1. retirer le bloc de sa position initiale dans le masque\n",
    "        #    2. ajouter le bloc à sa nouvelle position\n",
    "        masque_des_blocs = masque_des_blocs\n",
    "        \n",
    "    # Étape 4: ré-assembler l'image, en rajoutant au fond les blocs et le joueur\n",
    "    return niveau_sans_joueur_ni_bloc"
   ]
  },
  {
   "cell_type": "markdown",
   "id": "66b36930",
   "metadata": {},
   "source": [
    "#### Tests interactifs\n",
    "\n",
    "pour les tests interactifs, évaluez la case suivante:"
   ]
  },
  {
   "cell_type": "code",
   "execution_count": null,
   "id": "268ddd80",
   "metadata": {},
   "outputs": [],
   "source": [
    "helpers.render_controls(niveau, locals=locals())"
   ]
  },
  {
   "cell_type": "markdown",
   "id": "2decbd0f",
   "metadata": {},
   "source": [
    "#### Tests scriptés\n",
    "\n",
    "Comme toujours, vous disposez également d'un test scripté d'exemple:"
   ]
  },
  {
   "cell_type": "code",
   "execution_count": null,
   "id": "f4ad9230",
   "metadata": {
    "lines_to_next_cell": 1
   },
   "outputs": [],
   "source": [
    "helpers.affiche_sequences_joueur( \n",
    "        # sequence sans mouvement (= position initiale)\n",
    "        \"\",\n",
    "        # on se place devant le bloc au bout du couloir\n",
    "        \"HGGGGG\",\n",
    "        # on POUSSE le bloc (2 fois)\n",
    "        \"HGGGGGGG\",\n",
    "niveau=niveau,\n",
    "locals=locals())"
   ]
  },
  {
   "cell_type": "markdown",
   "id": "cbcd9fe6",
   "metadata": {},
   "source": [
    "### 2.5. Zone d'arrivée et fin de jeu\n",
    "\n",
    "Un dernier souci persiste: le jeu ne prend pas en compte la zone d'arrivée correctement.\n",
    "\n",
    "En effet, si vous avez suivi les recommandations ci-dessus, votre implémentation modifie le tableau à chaque déplacement et cela a pour effet _d'effacer_ la zone d'arrive lorsque vous la traversez:\n",
    "\n",
    "![](images/step3.gif)\n",
    "\n",
    "#### 2.5.1 Conservation de la zone d'arrivée (1 point)\n",
    "\n",
    "Pour cela, on rajoutera à notre fonction `deplace_joueur` un nouvel argument `masque_arrivee` qui, comme son nom le suggère, recevra un masque marquant les cases d'arrivée.\n",
    "\n",
    "Avec ce nouveau paramètre, nous n'avons plus qu'à modifier l'étape finale de notre fonction `deplace_joueur` pour nous assurer de \"re-dessiner\" les éléments de la zone d'arrivée avant de rajouter les blocs et le joueur, c-à-d. (avec les nouveautés **en gras**):\n",
    "\n",
    "1. Extraire le \"fond\" du jeu, c'est-à-dire **uniquement le fond `vide` et les `mur`s**, et un masque de la position des blocs\n",
    "2. Trouver la position du joueur dans le niveau et calculer la nouvelle position après déplacement\n",
    "3. Tester les collisions\n",
    "   - 3a. Si le joueur intersecte un mur, on ne valide pas le déplacement et on retourne `niveau`\n",
    "   - 3b. Si le joueur intersecte un bloc, on va essayer de le déplacer:\n",
    "     - on calcule la nouvelle position du bloc, si on le déplace dans la même `direction`\n",
    "     - on teste cette position pour une éventuelle intersection avec un mur ou un bloc, et le cas échéant on retourne `niveau`\n",
    "     - on met à jour notre masque des blocs\n",
    "4. Ré-assembler l'image finale:\n",
    "   - en partant du fond\n",
    "   - **puis en rajoutant les cases de la zone d'arrivée**\n",
    "   - puis en rajoutant les blocs\n",
    "   - puis en rajoutant le joueur\n",
    "\n",
    "les différentes couches peuvent s'illustrer ainsi:\n",
    "\n",
    "![](images/final.jpg)\n",
    "\n",
    "à chacune de ces étapes, on viendra \"écraser\" les valeurs dans le résultat final."
   ]
  },
  {
   "cell_type": "code",
   "execution_count": null,
   "id": "d2103f86",
   "metadata": {
    "lines_to_next_cell": 1
   },
   "outputs": [],
   "source": [
    "def deplace_joueur(niveau, direction, masque_arrivee):\n",
    "    \n",
    "    # Étape 1: Extraire le \"fond\" de l'image (image sans joueur ni bloc ni arrivée)\n",
    "    # 💡 on s'inspirera évidemment des réponses aux questions précédentes 2.2.2, 2.3 et 2.4\n",
    "    fond_avec_murs = niveau # 👈 attention il faut enlever le joueur ET les blocs ET l'arrivée de l'image\n",
    "    masque_des_blocs = np.full(niveau.shape, False) # 👈 à remplacer par un masque qui vaut True pour les blocs\n",
    "\n",
    "    # Étape 2: déplacer le joueur\n",
    "    # 💡 toujours le même code depuis 2.2.2 !\n",
    "    position_joueur = (0, 0)\n",
    "    position_joueur_deplace = position_joueur\n",
    "    \n",
    "    # Étape 3\n",
    "    if False: # 👈 remplace False par un test de collision avec un murs\n",
    "        # 💡 COPIER LE CODE de la question 2.3\n",
    "        return niveau\n",
    "    if False: # 👈 remplace False par un test de collision avec un bloc\n",
    "        # 💡 COPIER LE CODE de la question 2.4\n",
    "        return niveau\n",
    "        \n",
    "    # Étape 4: ré-assembler l'image\n",
    "    # - en partant du fond_avec_murs\n",
    "    # - ajouter la zone d'arrivée\n",
    "    # - ajouter les blocs\n",
    "    # - ajouter le joueur\n",
    "    return fond_avec_murs"
   ]
  },
  {
   "cell_type": "code",
   "execution_count": null,
   "id": "d4089b0b",
   "metadata": {
    "lines_to_next_cell": 1
   },
   "outputs": [],
   "source": [
    "#💡 Notez la présence du nouveau paramètre \"masque_arrivee\" !\n",
    "def deplace_joueur(niveau, direction, masque_arrivee):\n",
    "    fond_avec_murs = np.where(niveau == mur, mur, vide)\n",
    "    masque_des_blocs = niveau == bloc\n",
    "\n",
    "    position_joueur = trouver_joueur(niveau)\n",
    "    position_joueur_deplace = deplace_position(position_joueur, direction)\n",
    "    \n",
    "    masque_murs = niveau == mur\n",
    "    if masque_murs[position_joueur_deplace]:\n",
    "        return niveau\n",
    "    \n",
    "    masque_blocs = niveau == bloc\n",
    "    if masque_blocs[position_joueur_deplace]:\n",
    "        position_bloc_deplace = deplace_position(position_joueur_deplace, direction)\n",
    "        if masque_murs[position_bloc_deplace]:\n",
    "            return niveau\n",
    "        if masque_blocs[position_bloc_deplace]:\n",
    "            return niveau\n",
    "        masque_blocs[position_joueur_deplace] = False\n",
    "        masque_blocs[position_bloc_deplace] = True\n",
    "        \n",
    "    fond_avec_murs[masque_arrivee] = arrivee\n",
    "    fond_avec_murs[masque_blocs] = bloc\n",
    "    fond_avec_murs[position_joueur_deplace] = joueur\n",
    "    return fond_avec_murs"
   ]
  },
  {
   "cell_type": "code",
   "execution_count": null,
   "id": "acce9ed7",
   "metadata": {
    "lines_to_next_cell": 1
   },
   "outputs": [],
   "source": [
    "helpers.render_controls(niveau, locals=locals())"
   ]
  },
  {
   "cell_type": "markdown",
   "id": "45aa6d3a",
   "metadata": {},
   "source": [
    "### 2.5.2 Détection de la fin du jeu (1 point)\n",
    "\n",
    "On veut savoir quand la partie est finie: écrire une fonction `detecte_fin(niveau, masque_arrivee)` qui détecte si tous les blocs sont sur les cases d'arrivées.\n",
    "\n",
    "(2 points)"
   ]
  },
  {
   "cell_type": "code",
   "execution_count": null,
   "id": "5369a5ba",
   "metadata": {
    "lines_to_next_cell": 1
   },
   "outputs": [],
   "source": [
    "def detecte_fin(niveau, masque_arrivee):\n",
    "    # retourne True si la zone d'arrivé est entièrement recouverte de blocs\n",
    "    return False"
   ]
  },
  {
   "cell_type": "markdown",
   "id": "151628be",
   "metadata": {},
   "source": [
    "pour tester vous pouvez utiliser le \"niveau 0\" du jeu:"
   ]
  },
  {
   "cell_type": "code",
   "execution_count": null,
   "id": "a7bd948c",
   "metadata": {},
   "outputs": [],
   "source": [
    "helpers.render_controls(niveau=helpers.levels[0], locals=locals())"
   ]
  },
  {
   "cell_type": "markdown",
   "id": "0d6386a1",
   "metadata": {},
   "source": [
    "et bien entendu notre niveau-test principal:"
   ]
  },
  {
   "cell_type": "code",
   "execution_count": null,
   "id": "51b6956a",
   "metadata": {},
   "outputs": [],
   "source": [
    "helpers.render_controls(niveau, locals=locals())"
   ]
  },
  {
   "cell_type": "markdown",
   "id": "f57279dd",
   "metadata": {},
   "source": [
    "## 3. BONUS\n",
    "\n",
    "Vous pouvez maintenant essayer de résoudre les différents niveaux enregistrés dans le module `helpers.py`, en proposant pour chacun une séquence de résolution du puzzle.\n",
    "\n",
    "**Si vous arrivez à me fournir une solution de tous les niveaux ci-dessous, vous pourrez avoir un bonus de 3 points !**\n",
    "\n",
    "pour se faire:\n",
    "- trouvez les solutions des puzzles ci-dessous\n",
    "- notez les suites de touches qui correspondent à une solution (elle s'afficheront au fur et à mesure)"
   ]
  },
  {
   "cell_type": "markdown",
   "id": "39f939be",
   "metadata": {},
   "source": [
    "la cellule ci-dessous vous permet de tester vos solutions et vous affiche un tableau de leur validité (éventuelle):"
   ]
  },
  {
   "cell_type": "code",
   "execution_count": null,
   "id": "ad05c9f1",
   "metadata": {},
   "outputs": [],
   "source": [
    "helpers.test_solutions(\n",
    "    (0, \"D\"),  # 💡 exemple de solution au niveau 0 (un clic vers la droite)\n",
    "    (1, \"\"),   # 👈 rajouter votre solution au niveau 1 entre les guillemets\n",
    "    (2, \"\"),   # 👈 rajouter votre solution au niveau 2 entre les guillemets\n",
    "    (3, \"\"),   # 👈 rajouter votre solution au niveau 3 entre les guillemets\n",
    "    (4, \"\"),   # 👈 rajouter votre solution au niveau 4 entre les guillemets\n",
    "    (5, \"\"),   # 👈 rajouter votre solution au niveau 5 entre les guillemets\n",
    "    (6, \"\"),   # 👈 rajouter votre solution au niveau 6 entre les guillemets\n",
    "    (7, \"\"),   # 👈 rajouter votre solution au niveau 7 entre les guillemets\n",
    "    (8, \"\"),   # 👈 rajouter votre solution au niveau 8 entre les guillemets\n",
    "    (9, \"\"),   # 👈 rajouter votre solution au niveau 9 entre les guillemets\n",
    "    (10, \"\"),  # 👈 rajouter votre solution au niveau 10 entre les guillemets\n",
    "locals=locals())"
   ]
  },
  {
   "cell_type": "markdown",
   "id": "ee90e78b",
   "metadata": {},
   "source": [
    "### 3.0. Niveau 0"
   ]
  },
  {
   "cell_type": "code",
   "execution_count": null,
   "id": "92c21d60",
   "metadata": {},
   "outputs": [],
   "source": [
    "helpers.render_controls(helpers.levels[0], locals=locals(), log_touches=True)"
   ]
  },
  {
   "cell_type": "markdown",
   "id": "c3b3dce3",
   "metadata": {},
   "source": [
    "### 3.1. Niveau 1\n",
    "\n",
    "(celui-là devrait vous parler...)"
   ]
  },
  {
   "cell_type": "code",
   "execution_count": null,
   "id": "a36a7ba7",
   "metadata": {},
   "outputs": [],
   "source": [
    "helpers.render_controls(helpers.levels[1], locals=locals(), log_touches=True)"
   ]
  },
  {
   "cell_type": "markdown",
   "id": "40e04aa1",
   "metadata": {},
   "source": [
    "### 3.2. Niveau 2"
   ]
  },
  {
   "cell_type": "code",
   "execution_count": null,
   "id": "012b29ae",
   "metadata": {},
   "outputs": [],
   "source": [
    "helpers.render_controls(helpers.levels[2], locals=locals(), log_touches=True)"
   ]
  },
  {
   "cell_type": "markdown",
   "id": "2937b890",
   "metadata": {},
   "source": [
    "### 3.3. Niveau 3"
   ]
  },
  {
   "cell_type": "code",
   "execution_count": null,
   "id": "3d4cfae5",
   "metadata": {},
   "outputs": [],
   "source": [
    "helpers.render_controls(helpers.levels[3], locals=locals(), log_touches=True)"
   ]
  },
  {
   "cell_type": "markdown",
   "id": "da340b25",
   "metadata": {},
   "source": [
    "### 3.4. Niveau 4"
   ]
  },
  {
   "cell_type": "code",
   "execution_count": null,
   "id": "97037eb4",
   "metadata": {},
   "outputs": [],
   "source": [
    "helpers.render_controls(helpers.levels[4], locals=locals(), log_touches=True)"
   ]
  },
  {
   "cell_type": "markdown",
   "id": "3f6def04",
   "metadata": {},
   "source": [
    "### 3.5. Niveau 5"
   ]
  },
  {
   "cell_type": "code",
   "execution_count": null,
   "id": "4f4c9d3f",
   "metadata": {},
   "outputs": [],
   "source": [
    "helpers.render_controls(helpers.levels[5], locals=locals(), log_touches=True)"
   ]
  },
  {
   "cell_type": "markdown",
   "id": "b8d31de2",
   "metadata": {},
   "source": [
    "### 3.6. Niveau 6"
   ]
  },
  {
   "cell_type": "code",
   "execution_count": null,
   "id": "5963ff53",
   "metadata": {},
   "outputs": [],
   "source": [
    "helpers.render_controls(helpers.levels[6], locals=locals(), log_touches=True)"
   ]
  },
  {
   "cell_type": "markdown",
   "id": "bae853cf",
   "metadata": {},
   "source": [
    "### 3.7. Niveau 7"
   ]
  },
  {
   "cell_type": "code",
   "execution_count": null,
   "id": "f3f81788",
   "metadata": {},
   "outputs": [],
   "source": [
    "helpers.render_controls(helpers.levels[7], locals=locals(), log_touches=True)"
   ]
  },
  {
   "cell_type": "markdown",
   "id": "42082da5",
   "metadata": {},
   "source": [
    "### 3.8. Niveau 8"
   ]
  },
  {
   "cell_type": "code",
   "execution_count": null,
   "id": "0e3ca5e9",
   "metadata": {},
   "outputs": [],
   "source": [
    "helpers.render_controls(helpers.levels[8], locals=locals(), log_touches=True)"
   ]
  },
  {
   "cell_type": "markdown",
   "id": "91de0158",
   "metadata": {},
   "source": [
    "### 3.9. Niveau 9"
   ]
  },
  {
   "cell_type": "code",
   "execution_count": null,
   "id": "6514c7d1",
   "metadata": {},
   "outputs": [],
   "source": [
    "helpers.render_controls(helpers.levels[9], locals=locals(), log_touches=True)"
   ]
  },
  {
   "cell_type": "markdown",
   "id": "6102fe7b",
   "metadata": {},
   "source": [
    "### 3.10. Niveau 10"
   ]
  },
  {
   "cell_type": "code",
   "execution_count": null,
   "id": "50ea1894",
   "metadata": {},
   "outputs": [],
   "source": [
    "helpers.render_controls(helpers.levels[10], locals=locals(), log_touches=True)"
   ]
  },
  {
   "cell_type": "markdown",
   "id": "313a2875",
   "metadata": {},
   "source": [
    "<section style=\"background-color: yellow\">\n",
    "<p style=\"font-size: 24pt; font-weight: 700; text-align: center; padding: 200px 0\">Félicitations si vous êtes arrivé(e) jusque là 🥳🥳🥳</p>\n",
    "</section>"
   ]
  }
 ],
 "metadata": {
  "kernelspec": {
   "display_name": "Python 3 (ipykernel)",
   "language": "python",
   "name": "python3"
  }
 },
 "nbformat": 4,
 "nbformat_minor": 5
}
