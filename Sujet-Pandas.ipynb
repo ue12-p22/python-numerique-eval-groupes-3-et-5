{
 "cells": [
  {
   "cell_type": "markdown",
   "id": "675012f3",
   "metadata": {},
   "source": [
    "# Sujet Pandas\n",
    "\n",
    "Bienvenue dans votre sujet d'évaluation des connaissances [Pandas](https://pandas.pydata.org) 👋\n",
    "\n",
    "L'objectif de ce sujet est de vérifier votre compréhension de l'outil Pandas. Pour se faire, vous serez confrontés à un nouveau dataset, que vous devrez explorer, filtrer et trier afin de répondes aux différents puzzles proposés ci-dessous.\n",
    "\n",
    "Les données utilisées ici proviennent du fichier `Pokemon.csv`. Il s'agit d'un dataset [Kaggle](https://www.kaggle.com/) que vous pouvez retrouver [ici](https://www.kaggle.com/datasets/abcsds/pokemon).\n",
    "\n",
    "D'ailleurs, si par hasard les sciences des données vous intéressent, je vous incite fortement à vous inscrire sur ce site et à explorer leur grande base d'exemples, articles, exercices etc. qui sont autant de pépites pour progresser dans ce domaine."
   ]
  },
  {
   "cell_type": "markdown",
   "id": "e877372d",
   "metadata": {},
   "source": [
    "**Origine des données**\n",
    "\n",
    "Les données utilisées ici proviennent du fichier `Pokemon.csv`. Il s'agit d'un dataset [Kaggle](https://www.kaggle.com/) que vous pouvez retrouver [en ligne ici](https://www.kaggle.com/datasets/abcsds/pokemon). Vous pouvez visiter [la page dédiée](https://www.kaggle.com/datasets/abcsds/pokemon) à se dataset pour retrouver des informations générales sur l'origine des données, le sens des différentes colonnes etc.\n",
    "\n",
    "D'ailleurs, si par hasard les sciences des données vous intéressent, je vous incite fortement à vous inscrire sur ce site et à explorer leur grande base d'exemples, articles, exercices etc. qui sont autant de pépites pour progresser dans ce domaine.\n",
    "\n",
    "**Contacts privilégiés**\n",
    "\n",
    "En cas de blocage lors de votre travail sur ce TD, pensez à contacter en priorité votre responsable de groupe, via son **email aux mines `<prenom.nom@minesparis.psl.eu>`** \n",
    "- [Aurélien Noce `<aurelien.noce@minesparis.psl.eu>`](mailto:aurelien.noce@minesparis.psl.eu?Subject=[UE12-PE]%20Au%20Secours)\n",
    "- [Valérie Roy `<valerie.roy@minesparis.psl.eu>`](mailto:valerie.roy@minesparis.psl.eu?Subject=[UE12-PE]%20Au%20Secours)"
   ]
  },
  {
   "cell_type": "markdown",
   "id": "898cc96e",
   "metadata": {
    "lines_to_next_cell": 0
   },
   "source": [
    "**Barème**\n",
    "\n",
    "Le sujet est noté sur 20, avec 0,75 points bonus par-ci par-là et une répartition des points par questions décrite ci-apres:\n",
    "\n",
    "- Partie 1 – Chargement des données (3 points)\n",
    "  - 1.1 Lecture du fichier (1 point)\n",
    "  - 1.2 Choix de l'index (1 point + 0,25 bonus)\n",
    "  - 1.3 Choix des types  (1 point + 0,5 bonus)\n",
    "- Partie 2 – Statistiques simples (2,5 points)\n",
    "- Partie 3 – Accès aux données (5,5 points)\n",
    "  - 3.1 Chargement d'un élément dans une `Series` (2,5 point)\n",
    "  - 3.2 Masques simples (3 points + 0,25 bonus)\n",
    "- Partie 4 – Groupement de données (6 points)\n",
    "  - 4.1 Grands types de Pokemons (1,75 point)\n",
    "  - 4.2 Tri dans une `Series` (1 point)\n",
    "  - 4.3 Affichage sous forme d'une graphique (2 points + 1 bonus)\n",
    "  - 4.4 Camembert (1,25 point)\n",
    "- Partie 5 – Nettoyage des données (3 points)\n",
    "  - 5.1 Nettoyage des N/A (1,5 points)\n",
    "  - 5.2 Masquage des N/A (1,5 points)"
   ]
  },
  {
   "cell_type": "code",
   "execution_count": null,
   "id": "e39dd6d1",
   "metadata": {},
   "outputs": [],
   "source": [
    "# évaluez cette cellule avant de commencer le Sujet !\n",
    "import pandas as pd\n",
    "import numpy as np\n",
    "import matplotlib.pyplot as plt"
   ]
  },
  {
   "cell_type": "markdown",
   "id": "9f98318c",
   "metadata": {},
   "source": [
    "## Partie 1 – Chargement des données\n",
    "\n",
    "### 1.1. Lecture du fichier (1 point)\n",
    "\n",
    "Votre première tâche consiste à le contenu du fichier [`Pokemon.csv`](./Pokemon.csv) dans un `DataFrame` Pandas _(0.25 points)_, et affichez les 10 premières lignes de ce fichier _(0.25 points)_\n",
    "\n",
    "_Ne vous occupez pas de l'index pour l'instant, nous nous en occuperons dans la question suivante (**1.2**) 👇_"
   ]
  },
  {
   "cell_type": "code",
   "execution_count": null,
   "id": "1aca39b9",
   "metadata": {},
   "outputs": [],
   "source": [
    "df = None # 👈 remplacer None par le code de chargement du DataFrame\n",
    "# 👈 et rajouter le code d'affichage des 10 premières lignes`"
   ]
  },
  {
   "cell_type": "markdown",
   "id": "cce6d61c",
   "metadata": {},
   "source": [
    "Affichez le type des données des différentes colonnes _(0,25 points)_:"
   ]
  },
  {
   "cell_type": "code",
   "execution_count": null,
   "id": "46c2a525",
   "metadata": {},
   "outputs": [],
   "source": [
    "# Affichez les types des différentes colonnes"
   ]
  },
  {
   "cell_type": "markdown",
   "id": "10175fc4",
   "metadata": {},
   "source": [
    "Décrivez ces données, leur nature, types, valeurs etc. avec vos propres mots dans la cellule ci-dessous _(0.25 points)_:"
   ]
  },
  {
   "cell_type": "markdown",
   "id": "67a2c888",
   "metadata": {},
   "source": [
    "_écrivez vos observations ici_"
   ]
  },
  {
   "cell_type": "markdown",
   "id": "7a030e71",
   "metadata": {},
   "source": [
    "### 1.2. Choix de l'index (1 point + 0,25 bonus)\n",
    "\n",
    "Le chargement initial (**1.1**) de notre `DataFrame` Pandas nous a laissé avec un index \"par défaut\" inadapté à nos données.\n",
    "\n",
    "**Quelle est la type de l'index généré par défaut ? _(0,25 points)_**"
   ]
  },
  {
   "cell_type": "code",
   "execution_count": null,
   "id": "1c607a95",
   "metadata": {},
   "outputs": [],
   "source": [
    "# affichez les informations sur l'index"
   ]
  },
  {
   "cell_type": "markdown",
   "id": "4922cb93",
   "metadata": {},
   "source": [
    "Une rapide observation des données nous permet d'identifier plusieurs index possibles pour ce `DataFrame`:\n",
    "- la colonne `#`\n",
    "- le nom du Pokemon (colonne `Name`)\n",
    "\n",
    "**Discutez le choix de l'index _(0,25 points)_:**"
   ]
  },
  {
   "cell_type": "markdown",
   "id": "a347ba56",
   "metadata": {},
   "source": [
    "_notez ici vos observations et justifiez votre choix d'un index pour `df`_"
   ]
  },
  {
   "cell_type": "markdown",
   "id": "8d8cfd27",
   "metadata": {},
   "source": [
    "**BONUS: pouvez-vous deviner le sens de la colonne `#` ? _(0,25 points)_**\n",
    "\n",
    "💡 Vous pouvez évidemment utiliser un [moteur de recherche](https://letmegooglethat.com/?q=Pokemon+Information) pour vos recherches !"
   ]
  },
  {
   "cell_type": "markdown",
   "id": "6f7212a6",
   "metadata": {},
   "source": [
    "_notez votre réponse ici_"
   ]
  },
  {
   "cell_type": "markdown",
   "id": "f319f8ba",
   "metadata": {},
   "source": [
    "**Modifiez `df` pour lui attribuer l'index que vous avec choisi _(0,25 points)_:**"
   ]
  },
  {
   "cell_type": "code",
   "execution_count": null,
   "id": "28d92cec",
   "metadata": {},
   "outputs": [],
   "source": [
    "df = df # 👈 ajouter le code de modification d'index"
   ]
  },
  {
   "cell_type": "markdown",
   "id": "3f003d7d",
   "metadata": {},
   "source": [
    "**Utilisez votre index pour afficher les informations sur un Pokemon de votre choix _(0.25 points)_:**"
   ]
  },
  {
   "cell_type": "code",
   "execution_count": null,
   "id": "cacaa3f2",
   "metadata": {},
   "outputs": [],
   "source": [
    "# accédez à un Pokemon de votre choix en utilisant votre index"
   ]
  },
  {
   "cell_type": "markdown",
   "id": "5d91bedb",
   "metadata": {},
   "source": [
    "### 1.3. Choix des types  (1 point + 0,5 bonus)\n",
    "\n",
    "Afin de faciliter l'analyse des données de notre `DataFrame`, nous pouvons préciser les types à utiliser pour chacune des colonnes."
   ]
  },
  {
   "cell_type": "markdown",
   "id": "17a69126",
   "metadata": {},
   "source": [
    "- affichez le min et le max des colonnes numériques _(0,25 points)_:"
   ]
  },
  {
   "cell_type": "code",
   "execution_count": null,
   "id": "11663880",
   "metadata": {},
   "outputs": [],
   "source": [
    "# min et max des colonnes numériques"
   ]
  },
  {
   "cell_type": "markdown",
   "id": "2fa10db8",
   "metadata": {},
   "source": [
    "- affichez le nombre de valeurs distinctes des colonnes textuelles _(0,25 points)_:"
   ]
  },
  {
   "cell_type": "code",
   "execution_count": null,
   "id": "d7ab9ea2",
   "metadata": {},
   "outputs": [],
   "source": [
    "# nombre de valeurs distinctes pour les colonnes de type"
   ]
  },
  {
   "cell_type": "markdown",
   "id": "5bef03f8",
   "metadata": {},
   "source": [
    "- ajustez le type des colonnes de `df` pour maximiser l'efficacité et la mémoire utilisée _(0,5 points)_:"
   ]
  },
  {
   "cell_type": "code",
   "execution_count": null,
   "id": "80325c98",
   "metadata": {},
   "outputs": [],
   "source": [
    "# optimisez le type de colonnes"
   ]
  },
  {
   "cell_type": "markdown",
   "id": "a64fb4fb",
   "metadata": {},
   "source": [
    "**BONUS: configuration des types du `DataFrame` au chargement _(0,5 points)_**\n",
    "   \n",
    "Modifiez le code de chargement de la question **1.1** pour charger directement le `DataFrame` avec les bons types et le bon index:"
   ]
  },
  {
   "cell_type": "code",
   "execution_count": null,
   "id": "237646e8",
   "metadata": {},
   "outputs": [],
   "source": [
    "# charger le DataFrame avec les bons types et index"
   ]
  },
  {
   "cell_type": "markdown",
   "id": "231fbd9c",
   "metadata": {},
   "source": [
    "## Partie 2 – Statistiques simples (2,5 points)\n",
    "\n",
    "Nous avons vu en cours que l'on pouvait utiliser [`.describe()`](https://pandas.pydata.org/docs/reference/api/pandas.DataFrame.describe.html) pour afficher des statistiques générales sur le `DataFrame` (moyenne, écart-type, min et max etc.) sur les différentes colonnes _(0 point)_:"
   ]
  },
  {
   "cell_type": "code",
   "execution_count": null,
   "id": "e8bcc903",
   "metadata": {},
   "outputs": [],
   "source": [
    "# Affichez les statistiques générales du DataFrame \"df\""
   ]
  },
  {
   "cell_type": "markdown",
   "id": "2abf1d18",
   "metadata": {},
   "source": [
    "Le souci est que toutes ces statistiques ne sont pas forcément utiles, d'où la question suivante _(2 points)_:\n",
    "\n",
    "- affichez **seulement** les statistiques de combat (HP, Sp. Def, Speed, Defense, Attack, Sp. Atk) _(0,5 points)_\n",
    "- les **classer par écart-type décroissant** (`std`) _(1 points)_\n",
    "- et afficher (uniquement) la **moyenne**, le **min** et le **max** pour ces colonnes _(0,5 points)_"
   ]
  },
  {
   "cell_type": "code",
   "execution_count": null,
   "id": "82310723",
   "metadata": {},
   "outputs": [],
   "source": [
    "# affichez les statistiques demandées"
   ]
  },
  {
   "cell_type": "markdown",
   "id": "0058d779",
   "metadata": {},
   "source": [
    "- quelles sont les deux caractéristiques qui varient **le plus** entre les pokemons _(0,25 points)_ ?"
   ]
  },
  {
   "cell_type": "code",
   "execution_count": null,
   "id": "e2b1a4d4",
   "metadata": {},
   "outputs": [],
   "source": [
    "# afficher les deux caractéristiques qui varient le plus"
   ]
  },
  {
   "cell_type": "markdown",
   "id": "0ada374e",
   "metadata": {},
   "source": [
    "- quelles sont les deux caractéristiques qui varient **le moins** entre les pokemons _(0,25 points)_ ?"
   ]
  },
  {
   "cell_type": "code",
   "execution_count": null,
   "id": "79c28ad7",
   "metadata": {},
   "outputs": [],
   "source": [
    "# afficher les deux caractéristiques qui varient le moins"
   ]
  },
  {
   "cell_type": "markdown",
   "id": "6cf2addb",
   "metadata": {},
   "source": [
    "## Partie 3 – Accès aux données\n",
    "\n",
    "### 3.1. Chargement d'un élément dans une `Series` (2,5 point)\n",
    "Quelles sont les caractéristiques de `Pikachu` ?\n",
    "\n",
    "_les charger dans une `pandas.Series` nommée `pikachu` (0,5 points)_"
   ]
  },
  {
   "cell_type": "code",
   "execution_count": null,
   "id": "519e6c89",
   "metadata": {},
   "outputs": [],
   "source": [
    "pikachu = None # 👈 à remplacer par le code qui charge Pikachu"
   ]
  },
  {
   "cell_type": "markdown",
   "id": "80884dea",
   "metadata": {},
   "source": [
    "- quel est son type principal (_0,125 points)_ ?"
   ]
  },
  {
   "cell_type": "code",
   "execution_count": null,
   "id": "213f2cff",
   "metadata": {},
   "outputs": [],
   "source": [
    "# afficher le type de pikachu"
   ]
  },
  {
   "cell_type": "markdown",
   "id": "3ef25750",
   "metadata": {},
   "source": [
    "- est-ce un pokemon légendaire _(0,125 points)_ ?"
   ]
  },
  {
   "cell_type": "code",
   "execution_count": null,
   "id": "e7cf57d2",
   "metadata": {},
   "outputs": [],
   "source": [
    "# afficher votre réponse"
   ]
  },
  {
   "cell_type": "markdown",
   "id": "52e5ea72",
   "metadata": {},
   "source": [
    "- Combien y a-t-il d'autre Pokemons de même type (que `pikachu`)  _(0,75 points)_ ?"
   ]
  },
  {
   "cell_type": "code",
   "execution_count": null,
   "id": "903955a4",
   "metadata": {},
   "outputs": [],
   "source": [
    "# affichez le nombre de pokemons du mêm type"
   ]
  },
  {
   "cell_type": "markdown",
   "id": "53ef77e5",
   "metadata": {},
   "source": [
    "### 3.2. Masques simples (3 points + 0,25 bonus)\n",
    "\n",
    "Utilisez les masques pour répondre à ces questions:"
   ]
  },
  {
   "cell_type": "markdown",
   "id": "bae16c43",
   "metadata": {},
   "source": [
    "- Combien y a-t-il de Pokemons (au moins) aussi rapides que Pikachu _(1 points)_ ?"
   ]
  },
  {
   "cell_type": "code",
   "execution_count": null,
   "id": "db0b1880",
   "metadata": {},
   "outputs": [],
   "source": [
    "# affichez ne nombre de Pokemons (au moins) aussi rapides que Pikachu"
   ]
  },
  {
   "cell_type": "markdown",
   "id": "7d2c5aa6",
   "metadata": {},
   "source": [
    "- Combien y a-t-il de Pokemons dont le `Total` des points est strictement inférieur à celui de Pikachu _(1 points)_ ?"
   ]
  },
  {
   "cell_type": "code",
   "execution_count": null,
   "id": "ff31d932",
   "metadata": {},
   "outputs": [],
   "source": [
    "# affichez ne nombre de Pokemons dont le Total des points est strictement inférieur à celui de Pikachu"
   ]
  },
  {
   "cell_type": "markdown",
   "id": "3687e7c6",
   "metadata": {},
   "source": [
    "- répondez à nouveau aux mêmes questions, mais en considérant uniquement les Pokemons de la même génération _(1 points)_:"
   ]
  },
  {
   "cell_type": "markdown",
   "id": "355a3a34",
   "metadata": {},
   "source": [
    "**BONUS: Pikachu est-il un bon pokemon ? justifiez votre choix _(0,25 points)_**"
   ]
  },
  {
   "cell_type": "markdown",
   "id": "f907031e",
   "metadata": {},
   "source": [
    "_votre réponse ici_"
   ]
  },
  {
   "cell_type": "markdown",
   "id": "ce2d94f4",
   "metadata": {},
   "source": [
    "## Partie 4 – Groupement de données\n",
    "\n",
    "On s'intéresse désormais aux différents types de Pokemons. "
   ]
  },
  {
   "cell_type": "markdown",
   "id": "97c9d513",
   "metadata": {},
   "source": [
    "### 4.1. Grands types de Pokemons _(1,75 point)_\n",
    "\n",
    "Utilisez la données `Type 1` pour extraire la liste des grandes familles de pokemon _(0,25 points)_."
   ]
  },
  {
   "cell_type": "code",
   "execution_count": null,
   "id": "ce6d035d",
   "metadata": {},
   "outputs": [],
   "source": [
    "# Afficher la liste des familles de Pokemons"
   ]
  },
  {
   "cell_type": "markdown",
   "id": "800754cc",
   "metadata": {},
   "source": [
    "- Combien y a-t-il de pokemons de chaque type dans notre dataset _(1 point)_ ?"
   ]
  },
  {
   "cell_type": "code",
   "execution_count": null,
   "id": "8930b815",
   "metadata": {},
   "outputs": [],
   "source": [
    "nombre_par_type = None # 👈 calculez la série du nombre de Pokemons par type principal (Type 1)\n",
    "nombre_par_type"
   ]
  },
  {
   "cell_type": "markdown",
   "id": "64196850",
   "metadata": {},
   "source": [
    "- Vérifiez que par type ce total est compatible avec la taille du DataFrame (cf. questions précédentes) _(0,5 points)_"
   ]
  },
  {
   "cell_type": "code",
   "execution_count": null,
   "id": "6de25d2d",
   "metadata": {},
   "outputs": [],
   "source": [
    "# écrire un (petit) code pour vérifier la cohérence du dénombrement par type"
   ]
  },
  {
   "cell_type": "markdown",
   "id": "9df632ef",
   "metadata": {},
   "source": [
    "### 4.2. Tri dans une `Series` (1 points)"
   ]
  },
  {
   "cell_type": "markdown",
   "id": "d457460a",
   "metadata": {},
   "source": [
    "- Triez la `Series` précédente `nombre_par_type` _(0,5 points)_ par le nombre pokemon par type, de façon **décroissante** ?"
   ]
  },
  {
   "cell_type": "code",
   "execution_count": null,
   "id": "927fdb6e",
   "metadata": {},
   "outputs": [],
   "source": [
    "nombre_par_type = nombre_par_type # 👈 trier la Series"
   ]
  },
  {
   "cell_type": "markdown",
   "id": "b7bacd67",
   "metadata": {},
   "source": [
    "- Quel est le type de pokemon le plus courant _(0,25 points)_ ?"
   ]
  },
  {
   "cell_type": "code",
   "execution_count": null,
   "id": "01ccdfd4",
   "metadata": {},
   "outputs": [],
   "source": [
    "# Afficher le type de pokemon le plus courants"
   ]
  },
  {
   "cell_type": "markdown",
   "id": "ae9f1230",
   "metadata": {},
   "source": [
    "- Quel sont les deux types de pokemon les moins courant _(0,25 points)_ ?"
   ]
  },
  {
   "cell_type": "code",
   "execution_count": null,
   "id": "65ab0ae8",
   "metadata": {},
   "outputs": [],
   "source": [
    "# Afficher les DEUX types de pokemons les moins courants"
   ]
  },
  {
   "cell_type": "markdown",
   "id": "01425d13",
   "metadata": {},
   "source": [
    "### 4.3. Affichage sous forme d'une graphique (2 point + 1 bonus)\n",
    "\n",
    "Nous allons chercher désormais à afficher les informations de la `Series` `nombre_par_type` sous forme d'[un graphique de type \"bars\"](https://pandas.pydata.org/docs/reference/api/pandas.DataFrame.plot.bar.html).\n",
    "\n",
    "Ces points ayant été **peu vu en cours** vous aurez plus de recherche à faire pour répondre aux questions qui suivent, _mais serez gratifiés de plus de points_ !"
   ]
  },
  {
   "cell_type": "markdown",
   "id": "5650a091",
   "metadata": {},
   "source": [
    "**Affichez les données de `nombre_par_type` sous forme d'un graphe de type \"bars\"**, avec les caractéristiques suivantes:\n",
    "\n",
    "- affichage du graphe _(1 points)_\n",
    "- ajout d'une légende _(0,5 points)_ mentionnant le \"Nombre de pokemons\" _(0,25 points)_\n",
    "- ajout d'une titre général à la figure _(0,25 points)_\n",
    "\n",
    "Vous devriez obtenir une figure ressemblant à:\n",
    "\n",
    "![](images/bars.png)"
   ]
  },
  {
   "cell_type": "code",
   "execution_count": null,
   "id": "d3eceb1c",
   "metadata": {},
   "outputs": [],
   "source": [
    "# Affichage les statistiques précédentes (types de pokemons et nombre d'individus par groupe) sous forme d'une graphique"
   ]
  },
  {
   "cell_type": "markdown",
   "id": "64e55549",
   "metadata": {},
   "source": [
    "**BONUS: ajout de couleurs _(1 point)_**\n",
    "\n",
    "Modifiez le graphe précédent pour mettre en couleur:\n",
    "- rouge les Pokemons rares (= dont le nombre est < au 25ème percentile de la série)\n",
    "- vert les Pokemons communs (= dont le nombre est > au 75ème percentile de la série)\n",
    "- bleu tous les autres\n",
    "\n",
    "Pour les couleurs, vous pourrez utiliser les valeurs `b`, `g` et `r`. Vous devrez créer une série de même index, contenant ces valeurs, que vous passerez en option à votre fonction de plotting.\n",
    "\n",
    "Le résultat ressemblera à:\n",
    "\n",
    "![](./images/bars2.png)"
   ]
  },
  {
   "cell_type": "code",
   "execution_count": null,
   "id": "b7ee486f",
   "metadata": {},
   "outputs": [],
   "source": [
    "# Affichez le bar chart avec les couleurs"
   ]
  },
  {
   "cell_type": "markdown",
   "id": "a45ea155",
   "metadata": {},
   "source": [
    "### 4.4. Camembert _(1,25 points)_"
   ]
  },
  {
   "cell_type": "markdown",
   "id": "0351ab5e",
   "metadata": {},
   "source": [
    "Affichez un **camembert** du nombre de pokemons **par génération** _(1 point)_:\n",
    "\n",
    "- affichage du camembert _(0,5 point)_\n",
    "- affichage du label \"Pokemons / Génération\" _(0,25 point)_\n",
    "- affichage du nombre de pokemons dans chaque catégorie _(0,5 points)_\n",
    "\n",
    "le résultat attendu ressemble à:\n",
    "\n",
    "![](images/camembert.png)"
   ]
  },
  {
   "cell_type": "code",
   "execution_count": null,
   "id": "80646431",
   "metadata": {},
   "outputs": [],
   "source": [
    "# Affichez le nombre de pokemons par génération sous forme de camembert"
   ]
  },
  {
   "cell_type": "markdown",
   "id": "7025997b",
   "metadata": {},
   "source": [
    "### 4.5 Tri dans un `DataFrame` (2,75 points + 0,25 bonus)\n",
    "\n",
    "Le principal critère de tri dont nous disposons pour l'instant est la colonne `Total`.\n",
    "\n",
    "Nous allons essayer de comprendre sa nature, puis voir si nous pouvons la remplacer par notre propre critère:"
   ]
  },
  {
   "cell_type": "markdown",
   "id": "eebac94a",
   "metadata": {},
   "source": [
    "- écrivez un code qui vérifie que la colonne `Total` contient la somme des autres colonnes de caractéristiques _(0,5 points)_:"
   ]
  },
  {
   "cell_type": "code",
   "execution_count": null,
   "id": "c0897815",
   "metadata": {},
   "outputs": [],
   "source": [
    "# Code qui vérifie que la colonnes Total est la somme des autres\n",
    "# caractéristiques de combat (HP, Attack, Defense ...)"
   ]
  },
  {
   "cell_type": "markdown",
   "id": "b1203c4c",
   "metadata": {},
   "source": [
    "- nous proposons d'utiliser un autre critère, donc la formule est la suivante:\n",
    "\n",
    "  $\\frac{\\textbf{HP} + \\textbf{Attack} \\times 2 + \\textbf{Defense}}{40}$ le tout arrondi à l'entier le plus proche\n",
    "  \n",
    "  **Utilisez cette formule pour générer une nouvelle colonne \"Valeur\"** _(1 point)_"
   ]
  },
  {
   "cell_type": "code",
   "execution_count": null,
   "id": "49378d7c",
   "metadata": {},
   "outputs": [],
   "source": [
    "# 👇 écrire par le calcul des valeurs de la nouvelle colonne\n",
    "# df[\"Valeur\"] = ... "
   ]
  },
  {
   "cell_type": "markdown",
   "id": "ac13e48c",
   "metadata": {},
   "source": [
    "- ajustez le type de la colonne pour qu'il soit le plus cohérent en fonction des valeurs qu'elle contient _(0,25 points)_"
   ]
  },
  {
   "cell_type": "code",
   "execution_count": null,
   "id": "6c49a507",
   "metadata": {},
   "outputs": [],
   "source": [
    "# 👇 complétez cette ligne pour ajuster le type de la colonne\n",
    "# df[\"Valeur\"] = ... "
   ]
  },
  {
   "cell_type": "markdown",
   "id": "a4456aef",
   "metadata": {},
   "source": [
    "- classer le Dataframe des Pokemons `df` selon plusieurs critères _(1 point)_:\n",
    "  - tout d'abord par `Valeur` (du plus fort au plus faible) _(0,25 points)_\n",
    "  - puis par `Attack` (du plus fort au plus faible) _(0,25 points)_\n",
    "  - puis par `Generation` (du plus faible au plus fort) _(0,5 points)_"
   ]
  },
  {
   "cell_type": "code",
   "execution_count": null,
   "id": "82f0faea",
   "metadata": {},
   "outputs": [],
   "source": [
    "# Afficher les données triées"
   ]
  },
  {
   "cell_type": "markdown",
   "id": "04ab360d",
   "metadata": {},
   "source": [
    "**BONUS: proposez et justifiez une autre façon de calculer une valeur pour les pokemons, et justifiez votre choix (intuition, expérience de jeu ...)** _(0,25 points)_"
   ]
  },
  {
   "cell_type": "markdown",
   "id": "0e422deb",
   "metadata": {},
   "source": [
    "_vos idées ici_"
   ]
  },
  {
   "cell_type": "markdown",
   "id": "a2e7e294",
   "metadata": {},
   "source": [
    "## Partie 5 – Nettoyage des données\n",
    "\n",
    "### 5.1. Filtrage des N/A (1,5 points)"
   ]
  },
  {
   "cell_type": "markdown",
   "id": "593d68c4",
   "metadata": {},
   "source": [
    "- filtrez votre `DataFrame` pour éliminer tous les Pokemons qui n'ont pas de type secondaire _(1 point)_:"
   ]
  },
  {
   "cell_type": "code",
   "execution_count": null,
   "id": "c8ff2188",
   "metadata": {},
   "outputs": [],
   "source": [
    "df_sans_na = df # 👈 sélectionner les pokemons qui ont un type secondaires"
   ]
  },
  {
   "cell_type": "markdown",
   "id": "bdad4168",
   "metadata": {},
   "source": [
    "- combien reste-t-il de Pokemons après cette opération ? _(0,25 points)_"
   ]
  },
  {
   "cell_type": "code",
   "execution_count": null,
   "id": "eaa335a4",
   "metadata": {},
   "outputs": [],
   "source": [
    "# Afficher le nombre de pokemons restant"
   ]
  },
  {
   "cell_type": "markdown",
   "id": "81614c3c",
   "metadata": {},
   "source": [
    "- quel pourcentage du dataset initial a été éliminé par cette opération ? _(0,25 points)_"
   ]
  },
  {
   "cell_type": "code",
   "execution_count": null,
   "id": "b64eaaac",
   "metadata": {},
   "outputs": [],
   "source": [
    "# Afficher le pourcentage de pokemons éliminés"
   ]
  },
  {
   "cell_type": "markdown",
   "id": "dd65a0d2",
   "metadata": {},
   "source": [
    "### 5.2. Masquage des N/A (1,5 points)\n",
    "\n",
    "- à l'inverse, sélectionnez les pokemons qui n'ont *pas* de type secondaire _(1 points)_"
   ]
  },
  {
   "cell_type": "code",
   "execution_count": null,
   "id": "130da63b",
   "metadata": {},
   "outputs": [],
   "source": [
    "df_sans_type2 = df # 👈 sélectionner les pokemons qui n'ont pas de type secondaires"
   ]
  },
  {
   "cell_type": "markdown",
   "id": "e76308a8",
   "metadata": {},
   "source": [
    "- la colonne de type secondaire ne servant plus, supprimez-là de ce DataFrame _(0,25 points)_"
   ]
  },
  {
   "cell_type": "code",
   "execution_count": null,
   "id": "f7566f9e",
   "metadata": {},
   "outputs": [],
   "source": [
    "# Affichez le DataFrame sans la colonne superflue"
   ]
  },
  {
   "cell_type": "markdown",
   "id": "a3a79dbd",
   "metadata": {},
   "source": [
    "- quel pourcentage du dataset initial a été éliminé par cette opération ? _(0,25 points)_"
   ]
  },
  {
   "cell_type": "code",
   "execution_count": null,
   "id": "81d4d8c2",
   "metadata": {},
   "outputs": [],
   "source": [
    "# Afficher le pourcentage de pokemons éliminés"
   ]
  }
 ],
 "metadata": {
  "kernelspec": {
   "display_name": "Python 3.9.6 64-bit",
   "language": "python",
   "name": "python3"
  },
  "language_info": {
   "name": "python",
   "version": "3.9.6"
  },
  "vscode": {
   "interpreter": {
    "hash": "31f2aee4e71d21fbe5cf8b01ff0e069b9275f58929596ceb00d14d90e3e16cd6"
   }
  }
 },
 "nbformat": 4,
 "nbformat_minor": 5
}
